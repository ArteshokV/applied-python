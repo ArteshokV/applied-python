{
 "cells": [
  {
   "cell_type": "markdown",
   "metadata": {},
   "source": [
    "Python data model\n",
    "========"
   ]
  },
  {
   "cell_type": "code",
   "execution_count": 139,
   "metadata": {
    "collapsed": true
   },
   "outputs": [],
   "source": [
    "class ListView:\n",
    "    def __init__(self, lst, start, stop):\n",
    "        self._lst = lst\n",
    "        self._start = start\n",
    "        self._stop = stop"
   ]
  },
  {
   "cell_type": "code",
   "execution_count": 140,
   "metadata": {},
   "outputs": [
    {
     "data": {
      "text/plain": [
       "<__main__.ListView at 0x10ea5ff60>"
      ]
     },
     "execution_count": 140,
     "metadata": {},
     "output_type": "execute_result"
    }
   ],
   "source": [
    "ListView([0, 1, 2, 3, 4], 1, 3)"
   ]
  },
  {
   "cell_type": "markdown",
   "metadata": {},
   "source": [
    "`__len__`\n",
    "---"
   ]
  },
  {
   "cell_type": "code",
   "execution_count": 141,
   "metadata": {
    "collapsed": true
   },
   "outputs": [],
   "source": [
    "class ListView:\n",
    "    def __init__(self, lst, start, stop):\n",
    "        self._lst = lst\n",
    "        self._start = start\n",
    "        self._stop = stop\n",
    "        \n",
    "    def __len__(self):\n",
    "        return self._stop - self._start"
   ]
  },
  {
   "cell_type": "code",
   "execution_count": 142,
   "metadata": {},
   "outputs": [
    {
     "data": {
      "text/plain": [
       "2"
      ]
     },
     "execution_count": 142,
     "metadata": {},
     "output_type": "execute_result"
    }
   ],
   "source": [
    "len(ListView([0, 1, 2, 3, 4], 1, 3))"
   ]
  },
  {
   "cell_type": "markdown",
   "metadata": {},
   "source": [
    "`__iter__`\n",
    "---"
   ]
  },
  {
   "cell_type": "code",
   "execution_count": 143,
   "metadata": {},
   "outputs": [
    {
     "ename": "TypeError",
     "evalue": "'ListView' object is not iterable",
     "output_type": "error",
     "traceback": [
      "\u001b[0;31m---------------------------------------------------------------------------\u001b[0m",
      "\u001b[0;31mTypeError\u001b[0m                                 Traceback (most recent call last)",
      "\u001b[0;32m<ipython-input-143-c5b3c72ed1e0>\u001b[0m in \u001b[0;36m<module>\u001b[0;34m()\u001b[0m\n\u001b[0;32m----> 1\u001b[0;31m \u001b[0mlist\u001b[0m\u001b[0;34m(\u001b[0m\u001b[0mListView\u001b[0m\u001b[0;34m(\u001b[0m\u001b[0;34m[\u001b[0m\u001b[0;36m0\u001b[0m\u001b[0;34m,\u001b[0m \u001b[0;36m1\u001b[0m\u001b[0;34m,\u001b[0m \u001b[0;36m2\u001b[0m\u001b[0;34m,\u001b[0m \u001b[0;36m3\u001b[0m\u001b[0;34m,\u001b[0m \u001b[0;36m4\u001b[0m\u001b[0;34m]\u001b[0m\u001b[0;34m,\u001b[0m \u001b[0;36m1\u001b[0m\u001b[0;34m,\u001b[0m \u001b[0;36m3\u001b[0m\u001b[0;34m)\u001b[0m\u001b[0;34m)\u001b[0m\u001b[0;34m\u001b[0m\u001b[0m\n\u001b[0m",
      "\u001b[0;31mTypeError\u001b[0m: 'ListView' object is not iterable"
     ]
    }
   ],
   "source": [
    "list(ListView([0, 1, 2, 3, 4], 1, 3))"
   ]
  },
  {
   "cell_type": "code",
   "execution_count": 144,
   "metadata": {
    "collapsed": true
   },
   "outputs": [],
   "source": [
    "class ListView:\n",
    "    def __init__(self, lst, start, stop):\n",
    "        self._lst = lst\n",
    "        self._start = start\n",
    "        self._stop = stop\n",
    "        \n",
    "    def __len__(self):\n",
    "        return self._stop - self._start\n",
    "    \n",
    "    def __iter__(self):\n",
    "        for i in range(self._start, self._stop):\n",
    "            yield self._lst[i]"
   ]
  },
  {
   "cell_type": "code",
   "execution_count": 145,
   "metadata": {},
   "outputs": [
    {
     "data": {
      "text/plain": [
       "[1, 2]"
      ]
     },
     "execution_count": 145,
     "metadata": {},
     "output_type": "execute_result"
    }
   ],
   "source": [
    "list(ListView([0, 1, 2, 3, 4], 1, 3))"
   ]
  },
  {
   "cell_type": "code",
   "execution_count": 146,
   "metadata": {},
   "outputs": [
    {
     "data": {
      "text/plain": [
       "<generator object ListView.__iter__ at 0x10ea16830>"
      ]
     },
     "execution_count": 146,
     "metadata": {},
     "output_type": "execute_result"
    }
   ],
   "source": [
    "itr = iter(ListView([0, 1, 2, 3, 4], 1, 3))\n",
    "itr"
   ]
  },
  {
   "cell_type": "code",
   "execution_count": 147,
   "metadata": {},
   "outputs": [
    {
     "data": {
      "text/plain": [
       "1"
      ]
     },
     "execution_count": 147,
     "metadata": {},
     "output_type": "execute_result"
    }
   ],
   "source": [
    "next(itr)"
   ]
  },
  {
   "cell_type": "markdown",
   "metadata": {},
   "source": [
    "`__getitem__`\n",
    "---"
   ]
  },
  {
   "cell_type": "code",
   "execution_count": 148,
   "metadata": {
    "collapsed": true
   },
   "outputs": [],
   "source": [
    "class ListView:\n",
    "    def __init__(self, lst, start, stop):\n",
    "        self._lst = lst\n",
    "        self._start = start\n",
    "        self._stop = stop\n",
    "        \n",
    "    def __len__(self):\n",
    "        return self._stop - self._start\n",
    "    \n",
    "    def __getitem__(self, idx):\n",
    "        if self._start + idx < self._stop:\n",
    "            return self._lst[self._start + idx]\n",
    "        else:\n",
    "            raise IndexError(idx)"
   ]
  },
  {
   "cell_type": "code",
   "execution_count": 149,
   "metadata": {},
   "outputs": [
    {
     "data": {
      "text/plain": [
       "2"
      ]
     },
     "execution_count": 149,
     "metadata": {},
     "output_type": "execute_result"
    }
   ],
   "source": [
    "ListView([0, 1, 2, 3, 4], 1, 3)[1]"
   ]
  },
  {
   "cell_type": "code",
   "execution_count": 150,
   "metadata": {},
   "outputs": [
    {
     "data": {
      "text/plain": [
       "[1, 2]"
      ]
     },
     "execution_count": 150,
     "metadata": {},
     "output_type": "execute_result"
    }
   ],
   "source": [
    "list(ListView([0, 1, 2, 3, 4], 1, 3))"
   ]
  },
  {
   "cell_type": "markdown",
   "metadata": {},
   "source": [
    "`__setitem__`\n",
    "---"
   ]
  },
  {
   "cell_type": "code",
   "execution_count": 35,
   "metadata": {
    "collapsed": true
   },
   "outputs": [],
   "source": [
    "class ListView:\n",
    "    def __init__(self, lst, start, stop):\n",
    "        self._lst = lst\n",
    "        self._start = start\n",
    "        self._stop = stop\n",
    "        \n",
    "    def __len__(self):\n",
    "        return self._stop - self._start\n",
    "    \n",
    "    def __getitem__(self, idx):\n",
    "        if self._start + idx < self._stop:\n",
    "            return self._lst[self._start + idx]\n",
    "        else:\n",
    "            raise IndexError(idx)\n",
    "            \n",
    "    def __setitem__(self, idx, value):\n",
    "        if self._start + idx < self._stop:\n",
    "            self._lst[self._start + idx] = value\n",
    "        else:\n",
    "            raise IndexError(idx)"
   ]
  },
  {
   "cell_type": "code",
   "execution_count": 40,
   "metadata": {},
   "outputs": [
    {
     "data": {
      "text/plain": [
       "[1, 2]"
      ]
     },
     "execution_count": 40,
     "metadata": {},
     "output_type": "execute_result"
    }
   ],
   "source": [
    "lst = [0, 1, 2, 3, 4]\n",
    "view = ListView(lst, 1, 3)\n",
    "list(view)"
   ]
  },
  {
   "cell_type": "code",
   "execution_count": 41,
   "metadata": {
    "collapsed": true
   },
   "outputs": [],
   "source": [
    "view[1] = 7"
   ]
  },
  {
   "cell_type": "code",
   "execution_count": 42,
   "metadata": {},
   "outputs": [
    {
     "data": {
      "text/plain": [
       "[1, 7]"
      ]
     },
     "execution_count": 42,
     "metadata": {},
     "output_type": "execute_result"
    }
   ],
   "source": [
    "list(view)"
   ]
  },
  {
   "cell_type": "code",
   "execution_count": 44,
   "metadata": {},
   "outputs": [
    {
     "data": {
      "text/plain": [
       "[0, 1, 7, 3, 4]"
      ]
     },
     "execution_count": 44,
     "metadata": {},
     "output_type": "execute_result"
    }
   ],
   "source": [
    "lst"
   ]
  },
  {
   "cell_type": "markdown",
   "metadata": {},
   "source": [
    "`__add__`\n",
    "---"
   ]
  },
  {
   "cell_type": "code",
   "execution_count": 151,
   "metadata": {
    "collapsed": true
   },
   "outputs": [],
   "source": [
    "class ViewOffset:\n",
    "    def __init__(self, value):\n",
    "        self.value = value\n",
    "\n",
    "\n",
    "class ListView:\n",
    "    def __init__(self, lst, start, stop):\n",
    "        self._lst = lst\n",
    "        self._start = start\n",
    "        self._stop = stop\n",
    "        \n",
    "    def __len__(self):\n",
    "        return self._stop - self._start\n",
    "    \n",
    "    def __getitem__(self, idx):\n",
    "        if self._start + idx < self._stop:\n",
    "            return self._lst[self._start + idx]\n",
    "        else:\n",
    "            raise IndexError(idx)\n",
    "            \n",
    "    def __add__(self, offset):\n",
    "        if self._stop + offset.value > len(self._lst):\n",
    "            raise ValueError(offset)\n",
    "            \n",
    "        return type(self)(self._lst, self._start + offset.value, self._stop + offset.value)"
   ]
  },
  {
   "cell_type": "code",
   "execution_count": 152,
   "metadata": {},
   "outputs": [
    {
     "data": {
      "text/plain": [
       "[1, 2]"
      ]
     },
     "execution_count": 152,
     "metadata": {},
     "output_type": "execute_result"
    }
   ],
   "source": [
    "lst = [0, 1, 2, 3, 4, 5]\n",
    "v = ListView(lst, 1, 3)\n",
    "list(v)"
   ]
  },
  {
   "cell_type": "code",
   "execution_count": 153,
   "metadata": {},
   "outputs": [
    {
     "data": {
      "text/plain": [
       "[3, 4]"
      ]
     },
     "execution_count": 153,
     "metadata": {},
     "output_type": "execute_result"
    }
   ],
   "source": [
    "list(v + ViewOffset(2))"
   ]
  },
  {
   "cell_type": "code",
   "execution_count": 154,
   "metadata": {},
   "outputs": [
    {
     "ename": "TypeError",
     "evalue": "unsupported operand type(s) for +: 'ViewOffset' and 'ListView'",
     "output_type": "error",
     "traceback": [
      "\u001b[0;31m---------------------------------------------------------------------------\u001b[0m",
      "\u001b[0;31mTypeError\u001b[0m                                 Traceback (most recent call last)",
      "\u001b[0;32m<ipython-input-154-f58b70717e13>\u001b[0m in \u001b[0;36m<module>\u001b[0;34m()\u001b[0m\n\u001b[0;32m----> 1\u001b[0;31m \u001b[0mlist\u001b[0m\u001b[0;34m(\u001b[0m\u001b[0mViewOffset\u001b[0m\u001b[0;34m(\u001b[0m\u001b[0;36m2\u001b[0m\u001b[0;34m)\u001b[0m \u001b[0;34m+\u001b[0m \u001b[0mv\u001b[0m\u001b[0;34m)\u001b[0m\u001b[0;34m\u001b[0m\u001b[0m\n\u001b[0m",
      "\u001b[0;31mTypeError\u001b[0m: unsupported operand type(s) for +: 'ViewOffset' and 'ListView'"
     ]
    }
   ],
   "source": [
    "list(ViewOffset(2) + v)"
   ]
  },
  {
   "cell_type": "markdown",
   "metadata": {},
   "source": [
    "`__radd__`\n",
    "---"
   ]
  },
  {
   "cell_type": "code",
   "execution_count": 155,
   "metadata": {
    "collapsed": true
   },
   "outputs": [],
   "source": [
    "class ViewOffset:\n",
    "    def __init__(self, value):\n",
    "        self.value = value\n",
    "\n",
    "\n",
    "class ListView:\n",
    "    def __init__(self, lst, start, stop):\n",
    "        self._lst = lst\n",
    "        self._start = start\n",
    "        self._stop = stop\n",
    "        \n",
    "    def __len__(self):\n",
    "        return self._stop - self._start\n",
    "    \n",
    "    def __getitem__(self, idx):\n",
    "        if self._start + idx < self._stop:\n",
    "            return self._lst[self._start + idx]\n",
    "        else:\n",
    "            raise IndexError(idx)\n",
    "            \n",
    "    def __add__(self, offset):\n",
    "        if self._stop + offset.value > len(self._lst):\n",
    "            raise ValueError(offset)\n",
    "            \n",
    "        return type(self)(self._lst, self._start + offset.value, self._stop + offset.value)\n",
    "    \n",
    "    def __radd__(self, offset):\n",
    "        return self + offset"
   ]
  },
  {
   "cell_type": "code",
   "execution_count": 156,
   "metadata": {},
   "outputs": [
    {
     "data": {
      "text/plain": [
       "[3, 4]"
      ]
     },
     "execution_count": 156,
     "metadata": {},
     "output_type": "execute_result"
    }
   ],
   "source": [
    "lst = [0, 1, 2, 3, 4, 5]\n",
    "v = ListView(lst, 1, 3)\n",
    "list(ViewOffset(2) + v)"
   ]
  },
  {
   "cell_type": "code",
   "execution_count": 157,
   "metadata": {},
   "outputs": [
    {
     "ename": "TypeError",
     "evalue": "unsupported operand type(s) for +: 'ViewOffset' and 'ViewOffset'",
     "output_type": "error",
     "traceback": [
      "\u001b[0;31m---------------------------------------------------------------------------\u001b[0m",
      "\u001b[0;31mTypeError\u001b[0m                                 Traceback (most recent call last)",
      "\u001b[0;32m<ipython-input-157-dc6513d3835b>\u001b[0m in \u001b[0;36m<module>\u001b[0;34m()\u001b[0m\n\u001b[1;32m      1\u001b[0m \u001b[0mlst\u001b[0m \u001b[0;34m=\u001b[0m \u001b[0;34m[\u001b[0m\u001b[0;36m0\u001b[0m\u001b[0;34m,\u001b[0m \u001b[0;36m1\u001b[0m\u001b[0;34m,\u001b[0m \u001b[0;36m2\u001b[0m\u001b[0;34m,\u001b[0m \u001b[0;36m3\u001b[0m\u001b[0;34m,\u001b[0m \u001b[0;36m4\u001b[0m\u001b[0;34m,\u001b[0m \u001b[0;36m5\u001b[0m\u001b[0;34m]\u001b[0m\u001b[0;34m\u001b[0m\u001b[0m\n\u001b[1;32m      2\u001b[0m \u001b[0mv\u001b[0m \u001b[0;34m=\u001b[0m \u001b[0mListView\u001b[0m\u001b[0;34m(\u001b[0m\u001b[0mlst\u001b[0m\u001b[0;34m,\u001b[0m \u001b[0;36m1\u001b[0m\u001b[0;34m,\u001b[0m \u001b[0;36m3\u001b[0m\u001b[0;34m)\u001b[0m\u001b[0;34m\u001b[0m\u001b[0m\n\u001b[0;32m----> 3\u001b[0;31m \u001b[0mlist\u001b[0m\u001b[0;34m(\u001b[0m\u001b[0mViewOffset\u001b[0m\u001b[0;34m(\u001b[0m\u001b[0;36m1\u001b[0m\u001b[0;34m)\u001b[0m \u001b[0;34m+\u001b[0m \u001b[0mViewOffset\u001b[0m\u001b[0;34m(\u001b[0m\u001b[0;36m1\u001b[0m\u001b[0;34m)\u001b[0m \u001b[0;34m+\u001b[0m \u001b[0mv\u001b[0m\u001b[0;34m)\u001b[0m\u001b[0;34m\u001b[0m\u001b[0m\n\u001b[0m",
      "\u001b[0;31mTypeError\u001b[0m: unsupported operand type(s) for +: 'ViewOffset' and 'ViewOffset'"
     ]
    }
   ],
   "source": [
    "lst = [0, 1, 2, 3, 4, 5]\n",
    "v = ListView(lst, 1, 3)\n",
    "list(ViewOffset(1) + ViewOffset(1) + v)"
   ]
  },
  {
   "cell_type": "code",
   "execution_count": 134,
   "metadata": {
    "collapsed": true
   },
   "outputs": [],
   "source": [
    "#    def __add__(self, other):\n",
    "#        if isinstance(other, type(self)):\n",
    "#            return type(self)(self.value + other.value)\n",
    "#        else:\n",
    "#            return NotImplemented"
   ]
  },
  {
   "cell_type": "markdown",
   "metadata": {},
   "source": [
    "`collections.abc`\n",
    "---"
   ]
  },
  {
   "cell_type": "code",
   "execution_count": 181,
   "metadata": {},
   "outputs": [],
   "source": [
    "from collections import Sequence\n",
    "\n",
    "class ListView:\n",
    "    def __init__(self, lst, start, stop):\n",
    "        self._lst = lst\n",
    "        self._start = start\n",
    "        self._stop = stop\n",
    "        \n",
    "    #def __len__(self):\n",
    "    #    return self._stop - self._start\n",
    "    \n",
    "    def __getitem__(self, idx):\n",
    "        if self._start + idx < self._stop:\n",
    "            return self._lst[self._start + idx]\n",
    "        else:\n",
    "            raise IndexError(idx)"
   ]
  },
  {
   "cell_type": "code",
   "execution_count": 182,
   "metadata": {},
   "outputs": [
    {
     "ename": "TypeError",
     "evalue": "object of type 'ListView' has no len()",
     "output_type": "error",
     "traceback": [
      "\u001b[0;31m---------------------------------------------------------------------------\u001b[0m",
      "\u001b[0;31mTypeError\u001b[0m                                 Traceback (most recent call last)",
      "\u001b[0;32m<ipython-input-182-16e52224bd96>\u001b[0m in \u001b[0;36m<module>\u001b[0;34m()\u001b[0m\n\u001b[0;32m----> 1\u001b[0;31m \u001b[0mlen\u001b[0m\u001b[0;34m(\u001b[0m\u001b[0mListView\u001b[0m\u001b[0;34m(\u001b[0m\u001b[0;34m[\u001b[0m\u001b[0;36m0\u001b[0m\u001b[0;34m,\u001b[0m \u001b[0;36m1\u001b[0m\u001b[0;34m,\u001b[0m \u001b[0;36m2\u001b[0m\u001b[0;34m,\u001b[0m \u001b[0;36m3\u001b[0m\u001b[0;34m,\u001b[0m \u001b[0;36m4\u001b[0m\u001b[0;34m]\u001b[0m\u001b[0;34m,\u001b[0m \u001b[0;36m1\u001b[0m\u001b[0;34m,\u001b[0m \u001b[0;36m3\u001b[0m\u001b[0;34m)\u001b[0m\u001b[0;34m)\u001b[0m\u001b[0;34m\u001b[0m\u001b[0m\n\u001b[0m",
      "\u001b[0;31mTypeError\u001b[0m: object of type 'ListView' has no len()"
     ]
    }
   ],
   "source": [
    "len(ListView([0, 1, 2, 3, 4], 1, 3))"
   ]
  },
  {
   "cell_type": "markdown",
   "metadata": {},
   "source": [
    "Декораторы\n",
    "==="
   ]
  },
  {
   "cell_type": "markdown",
   "metadata": {},
   "source": [
    "Декоратор функции\n",
    "---"
   ]
  },
  {
   "cell_type": "code",
   "execution_count": 186,
   "metadata": {
    "collapsed": true
   },
   "outputs": [],
   "source": [
    "def sqr(x):\n",
    "    return x * x\n",
    "\n",
    "def half(x):\n",
    "    return x / 2"
   ]
  },
  {
   "cell_type": "code",
   "execution_count": 187,
   "metadata": {},
   "outputs": [
    {
     "data": {
      "text/plain": [
       "9"
      ]
     },
     "execution_count": 187,
     "metadata": {},
     "output_type": "execute_result"
    }
   ],
   "source": [
    "sqr(3)"
   ]
  },
  {
   "cell_type": "code",
   "execution_count": 188,
   "metadata": {},
   "outputs": [
    {
     "data": {
      "text/plain": [
       "2.5"
      ]
     },
     "execution_count": 188,
     "metadata": {},
     "output_type": "execute_result"
    }
   ],
   "source": [
    "half(5)"
   ]
  },
  {
   "cell_type": "code",
   "execution_count": 208,
   "metadata": {
    "collapsed": true
   },
   "outputs": [],
   "source": [
    "_sqr_cache = {}\n",
    "def sqr(x):\n",
    "    if x not in _sqr_cache:\n",
    "        _sqr_cache[x] = x * x\n",
    "    return _sqr_cache[x]\n",
    "\n",
    "_half_cache = {}\n",
    "def half(x):\n",
    "    if x not in _half_cache:\n",
    "        _half_cache[x] = x // 2\n",
    "    return _half_cache[x]"
   ]
  },
  {
   "cell_type": "code",
   "execution_count": 209,
   "metadata": {},
   "outputs": [
    {
     "data": {
      "text/plain": [
       "(25, 10)"
      ]
     },
     "execution_count": 209,
     "metadata": {},
     "output_type": "execute_result"
    }
   ],
   "source": [
    "sqr(5), half(20)"
   ]
  },
  {
   "cell_type": "code",
   "execution_count": 211,
   "metadata": {},
   "outputs": [
    {
     "data": {
      "text/plain": [
       "({5: 25}, {20: 10})"
      ]
     },
     "execution_count": 211,
     "metadata": {},
     "output_type": "execute_result"
    }
   ],
   "source": [
    "_sqr_cache, _half_cache"
   ]
  },
  {
   "cell_type": "code",
   "execution_count": 245,
   "metadata": {},
   "outputs": [],
   "source": [
    "@cached\n",
    "def sqr(x):\n",
    "    print('calculating sqr')\n",
    "    return x * x\n",
    "\n",
    "@cached\n",
    "def half(x):\n",
    "    print('calculating half')\n",
    "    return x / 2\n",
    "\n"
   ]
  },
  {
   "cell_type": "code",
   "execution_count": 248,
   "metadata": {},
   "outputs": [
    {
     "data": {
      "text/plain": [
       "(4, 5.0)"
      ]
     },
     "execution_count": 248,
     "metadata": {},
     "output_type": "execute_result"
    }
   ],
   "source": [
    "sqr(2), half(10)"
   ]
  },
  {
   "cell_type": "code",
   "execution_count": 238,
   "metadata": {
    "collapsed": true
   },
   "outputs": [],
   "source": [
    "def cached(func):\n",
    "    def new_func(x):\n",
    "        return func(x)\n",
    "\n",
    "    return new_func"
   ]
  },
  {
   "cell_type": "code",
   "execution_count": 244,
   "metadata": {
    "collapsed": true
   },
   "outputs": [],
   "source": [
    "def cached(func):\n",
    "    cache = {}\n",
    "\n",
    "    def new_func(x):\n",
    "        if x not in cache:\n",
    "            cache[x] = func(x)\n",
    "        return cache[x]\n",
    "\n",
    "    return new_func"
   ]
  },
  {
   "cell_type": "code",
   "execution_count": 249,
   "metadata": {},
   "outputs": [
    {
     "name": "stdout",
     "output_type": "stream",
     "text": [
      "calculating sqr\n"
     ]
    },
    {
     "data": {
      "text/plain": [
       "(4, 4)"
      ]
     },
     "execution_count": 249,
     "metadata": {},
     "output_type": "execute_result"
    }
   ],
   "source": [
    "def sqr(x):\n",
    "    print('calculating sqr')\n",
    "    return x * x\n",
    "\n",
    "sqr = cached(sqr)\n",
    "sqr(2), sqr(2)"
   ]
  },
  {
   "cell_type": "markdown",
   "metadata": {},
   "source": [
    "Декоратор функции с параметрами\n",
    "---"
   ]
  },
  {
   "cell_type": "code",
   "execution_count": 280,
   "metadata": {},
   "outputs": [],
   "source": [
    "@cached(limit=3)\n",
    "def sqr(x):\n",
    "    print('calculating sqr')\n",
    "    return x * x    "
   ]
  },
  {
   "cell_type": "code",
   "execution_count": 254,
   "metadata": {
    "collapsed": true
   },
   "outputs": [],
   "source": [
    "sqr = cached(limit=3)(sqr)"
   ]
  },
  {
   "cell_type": "code",
   "execution_count": 251,
   "metadata": {
    "collapsed": true
   },
   "outputs": [],
   "source": [
    "def cached(limit):\n",
    "    def decorator(func):\n",
    "        pass\n",
    "    \n",
    "    return decorator"
   ]
  },
  {
   "cell_type": "code",
   "execution_count": 262,
   "metadata": {
    "collapsed": true
   },
   "outputs": [],
   "source": [
    "def cached(limit):\n",
    "    def decorator(func):\n",
    "        def new_func(x):\n",
    "            return func(x)\n",
    "\n",
    "        return new_func\n",
    "    \n",
    "    return decorator"
   ]
  },
  {
   "cell_type": "code",
   "execution_count": 261,
   "metadata": {},
   "outputs": [
    {
     "name": "stdout",
     "output_type": "stream",
     "text": [
      "calculating sqr\n"
     ]
    },
    {
     "data": {
      "text/plain": [
       "16"
      ]
     },
     "execution_count": 261,
     "metadata": {},
     "output_type": "execute_result"
    }
   ],
   "source": [
    "sqr(4)"
   ]
  },
  {
   "cell_type": "markdown",
   "metadata": {},
   "source": [
    "`@wraps`\n",
    "---"
   ]
  },
  {
   "cell_type": "code",
   "execution_count": 378,
   "metadata": {},
   "outputs": [],
   "source": [
    "from functools import wraps\n",
    "\n",
    "def cached(func):\n",
    "    cache = {}\n",
    "\n",
    "    def new_func(x):\n",
    "        if x not in cache:\n",
    "            cache[x] = func(x)\n",
    "        return cache[x]\n",
    "\n",
    "    return new_func\n",
    "\n",
    "@cached\n",
    "def sqr(x):\n",
    "    \"\"\"Returns the square of X\"\"\"\n",
    "    return x * x"
   ]
  },
  {
   "cell_type": "code",
   "execution_count": 379,
   "metadata": {},
   "outputs": [
    {
     "data": {
      "text/plain": [
       "('new_func', None)"
      ]
     },
     "execution_count": 379,
     "metadata": {},
     "output_type": "execute_result"
    }
   ],
   "source": [
    "sqr.__name__, sqr.__doc__"
   ]
  },
  {
   "cell_type": "markdown",
   "metadata": {},
   "source": [
    "Декораторы класса\n",
    "---"
   ]
  },
  {
   "cell_type": "code",
   "execution_count": 286,
   "metadata": {
    "collapsed": true
   },
   "outputs": [],
   "source": [
    "class Number:\n",
    "    def __init__(self, value):\n",
    "        self._value = value\n",
    "        \n",
    "    def sqr(self):\n",
    "        return type(self)(self._value * self._value)\n",
    "    \n",
    "    def half(self):\n",
    "        return type(self)(self._value // 2)\n",
    "        \n",
    "    def __repr__(self):\n",
    "        return 'Number({value})'.format(value=self._value)"
   ]
  },
  {
   "cell_type": "code",
   "execution_count": 287,
   "metadata": {},
   "outputs": [
    {
     "data": {
      "text/plain": [
       "Number(2)"
      ]
     },
     "execution_count": 287,
     "metadata": {},
     "output_type": "execute_result"
    }
   ],
   "source": [
    "Number(2)"
   ]
  },
  {
   "cell_type": "code",
   "execution_count": 288,
   "metadata": {},
   "outputs": [
    {
     "data": {
      "text/plain": [
       "Number(9)"
      ]
     },
     "execution_count": 288,
     "metadata": {},
     "output_type": "execute_result"
    }
   ],
   "source": [
    "Number(3).sqr()"
   ]
  },
  {
   "cell_type": "markdown",
   "metadata": {},
   "source": [
    "Вручную декорируем методы\n",
    "---"
   ]
  },
  {
   "cell_type": "code",
   "execution_count": 357,
   "metadata": {},
   "outputs": [],
   "source": [
    "def cached(method): ###\n",
    "    method_name = method.__name__\n",
    "    \n",
    "    def new_method(self):\n",
    "        if method_name not in self.CACHE:\n",
    "            self.CACHE[method_name] = {}\n",
    "        cache = self.CACHE[method_name]\n",
    "\n",
    "        if self._value not in cache:\n",
    "            cache[self._value] = method(self)\n",
    "        return cache[self._value]\n",
    "\n",
    "    return new_method\n",
    "\n",
    "class Number:\n",
    "    CACHE = {} ###\n",
    "    \n",
    "    def __init__(self, value):\n",
    "        self._value = value\n",
    "    \n",
    "    @cached ###\n",
    "    def sqr(self):\n",
    "        return type(self)(self._value * self._value)\n",
    "    \n",
    "    @cached ###\n",
    "    def half(self):\n",
    "        return type(self)(self._value // 2)\n",
    "        \n",
    "    def __repr__(self):\n",
    "        return 'Number({value})'.format(value=self._value)"
   ]
  },
  {
   "cell_type": "code",
   "execution_count": 358,
   "metadata": {},
   "outputs": [
    {
     "data": {
      "text/plain": [
       "Number(2)"
      ]
     },
     "execution_count": 358,
     "metadata": {},
     "output_type": "execute_result"
    }
   ],
   "source": [
    "Number(5).half()"
   ]
  },
  {
   "cell_type": "code",
   "execution_count": 359,
   "metadata": {},
   "outputs": [
    {
     "data": {
      "text/plain": [
       "{'half': {5: Number(2)}}"
      ]
     },
     "execution_count": 359,
     "metadata": {},
     "output_type": "execute_result"
    }
   ],
   "source": [
    "Number(4).CACHE"
   ]
  },
  {
   "cell_type": "markdown",
   "metadata": {},
   "source": [
    "Автоматически декорируем известные методы\n",
    "---"
   ]
  },
  {
   "cell_type": "code",
   "execution_count": 327,
   "metadata": {
    "collapsed": true
   },
   "outputs": [],
   "source": [
    "def cached(method):\n",
    "    method_name = method.__name__\n",
    "    \n",
    "    def new_method(self):\n",
    "        if method_name not in self.CACHE:\n",
    "            self.CACHE[method_name] = {}\n",
    "        cache = self.CACHE[method_name]\n",
    "\n",
    "        if self._value not in cache:\n",
    "            cache[self._value] = method(self)\n",
    "        return cache[self._value]\n",
    "\n",
    "    return new_method\n",
    "\n",
    "def cache_all(klass): ###\n",
    "    for attr_name in ['sqr', 'half']:\n",
    "        attr = getattr(klass, attr_name)\n",
    "        setattr(klass, attr_name, cached(attr))\n",
    "    return klass\n",
    "\n",
    "@cache_all ###\n",
    "class Number:\n",
    "    CACHE = {}\n",
    "    \n",
    "    def __init__(self, value):\n",
    "        self._value = value\n",
    "    \n",
    "    ###\n",
    "    def sqr(self):\n",
    "        return type(self)(self._value * self._value)\n",
    "    \n",
    "    ###\n",
    "    def half(self):\n",
    "        return type(self)(self._value // 2)\n",
    "        \n",
    "    def __repr__(self):\n",
    "        return 'Number({value})'.format(value=self._value)"
   ]
  },
  {
   "cell_type": "code",
   "execution_count": 316,
   "metadata": {},
   "outputs": [
    {
     "data": {
      "text/plain": [
       "Number(2)"
      ]
     },
     "execution_count": 316,
     "metadata": {},
     "output_type": "execute_result"
    }
   ],
   "source": [
    "Number(5).half()"
   ]
  },
  {
   "cell_type": "code",
   "execution_count": 317,
   "metadata": {},
   "outputs": [
    {
     "data": {
      "text/plain": [
       "{'half': {5: Number(2)}}"
      ]
     },
     "execution_count": 317,
     "metadata": {},
     "output_type": "execute_result"
    }
   ],
   "source": [
    "Number.CACHE"
   ]
  },
  {
   "cell_type": "markdown",
   "metadata": {},
   "source": [
    "Автоматически декорируем помеченные методы\n",
    "---"
   ]
  },
  {
   "cell_type": "code",
   "execution_count": 360,
   "metadata": {},
   "outputs": [],
   "source": [
    "def cached(method): ###\n",
    "    method._cached = True\n",
    "    return method\n",
    "\n",
    "def _cached(method): ###\n",
    "    method_name = method.__name__\n",
    "    \n",
    "    def new_method(self):\n",
    "        if method_name not in self.CACHE:\n",
    "            self.CACHE[method_name] = {}\n",
    "        cache = self.CACHE[method_name]\n",
    "\n",
    "        if self._value not in cache:\n",
    "            cache[self._value] = method(self)\n",
    "        return cache[self._value]\n",
    "\n",
    "    return new_method\n",
    "\n",
    "def cached_methods(klass):\n",
    "    for attr_name in klass.__dict__:\n",
    "        attr = getattr(klass, attr_name)\n",
    "        if hasattr(attr, '_cached') and attr._cached:\n",
    "            setattr(klass, attr_name, _cached(attr))\n",
    "    \n",
    "    return klass\n",
    "\n",
    "@cached_methods ###\n",
    "class Number:\n",
    "    CACHE = {}\n",
    "    \n",
    "    def __init__(self, value):\n",
    "        self._value = value\n",
    "    \n",
    "    @cached ###\n",
    "    def sqr(self):\n",
    "        return type(self)(self._value * self._value)\n",
    "    \n",
    "    @cached ###\n",
    "    def half(self):\n",
    "        return type(self)(self._value // 2)\n",
    "        \n",
    "    def __repr__(self):\n",
    "        return 'Number({value})'.format(value=self._value)"
   ]
  },
  {
   "cell_type": "code",
   "execution_count": 361,
   "metadata": {},
   "outputs": [
    {
     "data": {
      "text/plain": [
       "Number(2)"
      ]
     },
     "execution_count": 361,
     "metadata": {},
     "output_type": "execute_result"
    }
   ],
   "source": [
    "Number(5).half()"
   ]
  },
  {
   "cell_type": "code",
   "execution_count": 362,
   "metadata": {},
   "outputs": [
    {
     "data": {
      "text/plain": [
       "{'half': {5: Number(2)}}"
      ]
     },
     "execution_count": 362,
     "metadata": {},
     "output_type": "execute_result"
    }
   ],
   "source": [
    "Number.CACHE"
   ]
  },
  {
   "cell_type": "markdown",
   "metadata": {},
   "source": [
    "Параметризуем имя кеша\n",
    "---"
   ]
  },
  {
   "cell_type": "markdown",
   "metadata": {},
   "source": [
    "<img width=500 src=\"fotr.ee.elrond.jpg\">"
   ]
  },
  {
   "cell_type": "code",
   "execution_count": 353,
   "metadata": {
    "collapsed": true
   },
   "outputs": [],
   "source": [
    "def cached(method):\n",
    "    method._cached = True\n",
    "    return method\n",
    "\n",
    "def _cached(method, cache_name): ###\n",
    "    method_name = method.__name__\n",
    "\n",
    "    def new_method(self):\n",
    "        global_cache = getattr(self, cache_name) ###\n",
    "        if method_name not in global_cache:\n",
    "            global_cache[method_name] = {}\n",
    "        cache = global_cache[method_name]\n",
    "\n",
    "        if self._value not in cache:\n",
    "            cache[self._value] = method(self)\n",
    "        return cache[self._value]\n",
    "\n",
    "    return new_method\n",
    "\n",
    "\n",
    "def cached_methods(cache_name):\n",
    "    def decorator(klass):\n",
    "        setattr(klass, cache_name, {}) ###\n",
    "        \n",
    "        for attr_name in klass.__dict__:\n",
    "            attr = getattr(klass, attr_name)\n",
    "            if hasattr(attr, '_cached') and attr._cached:\n",
    "                setattr(klass, attr_name, _cached(attr, cache_name)) ###\n",
    "    \n",
    "        return klass\n",
    "    return decorator\n",
    "\n",
    "@cached_methods('MY_CACHE') ###\n",
    "class Number:\n",
    "    ###\n",
    "    \n",
    "    def __init__(self, value):\n",
    "        self._value = value\n",
    "    \n",
    "    @cached\n",
    "    def sqr(self):\n",
    "        return type(self)(self._value * self._value)\n",
    "    \n",
    "    @cached\n",
    "    def half(self):\n",
    "        return type(self)(self._value // 2)\n",
    "        \n",
    "    def __repr__(self):\n",
    "        return 'Number({value})'.format(value=self._value)"
   ]
  },
  {
   "cell_type": "code",
   "execution_count": 354,
   "metadata": {},
   "outputs": [
    {
     "data": {
      "text/plain": [
       "Number(2)"
      ]
     },
     "execution_count": 354,
     "metadata": {},
     "output_type": "execute_result"
    }
   ],
   "source": [
    "Number(5).half()"
   ]
  },
  {
   "cell_type": "code",
   "execution_count": 355,
   "metadata": {},
   "outputs": [
    {
     "data": {
      "text/plain": [
       "{'half': {5: Number(2)}}"
      ]
     },
     "execution_count": 355,
     "metadata": {},
     "output_type": "execute_result"
    }
   ],
   "source": [
    "Number.MY_CACHE"
   ]
  },
  {
   "cell_type": "code",
   "execution_count": null,
   "metadata": {
    "collapsed": true
   },
   "outputs": [],
   "source": []
  }
 ],
 "metadata": {
  "kernelspec": {
   "display_name": "Python 3",
   "language": "python",
   "name": "python3"
  },
  "language_info": {
   "codemirror_mode": {
    "name": "ipython",
    "version": 3
   },
   "file_extension": ".py",
   "mimetype": "text/x-python",
   "name": "python",
   "nbconvert_exporter": "python",
   "pygments_lexer": "ipython3",
   "version": "3.6.3"
  }
 },
 "nbformat": 4,
 "nbformat_minor": 2
}
